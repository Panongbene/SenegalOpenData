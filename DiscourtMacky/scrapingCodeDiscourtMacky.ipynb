{
 "cells": [
  {
   "cell_type": "markdown",
   "metadata": {
    "id": "oJPVAjJpPkDC"
   },
   "source": [
    "# BIBLIOTEQUES ET LIBRAIRIES NECESSAIRES"
   ]
  },
  {
   "cell_type": "code",
   "execution_count": 1,
   "metadata": {
    "colab": {
     "base_uri": "https://localhost:8080/",
     "height": 350
    },
    "id": "akA0Z6ihPjOH",
    "outputId": "c5b04367-0cbb-4588-8e16-188ff3395aa0"
   },
   "outputs": [],
   "source": [
    "#import scrapy\n",
    "import os\n",
    "import time\n",
    "import json\n",
    "import spacy\n",
    "import pandas\n",
    "import socket\n",
    "import requests\n",
    "from nerd import ner\n",
    "from langdetect import detect\n",
    "from bs4 import BeautifulSoup"
   ]
  },
  {
   "cell_type": "code",
   "execution_count": 2,
   "metadata": {},
   "outputs": [],
   "source": [
    "from selenium import webdriver\n",
    "from selenium.webdriver.common.keys import Keys\n",
    "from webdriver_manager.firefox import GeckoDriverManager"
   ]
  },
  {
   "cell_type": "markdown",
   "metadata": {
    "id": "IOy5mt46P0G1"
   },
   "source": [
    "# VARIABLES"
   ]
  },
  {
   "cell_type": "code",
   "execution_count": 3,
   "metadata": {
    "id": "CqmTs7daPjSe"
   },
   "outputs": [],
   "source": [
    "PAGE_INITIALE = \"https://www.presidence.sn/actualites/discours\""
   ]
  },
  {
   "cell_type": "code",
   "execution_count": 4,
   "metadata": {},
   "outputs": [],
   "source": [
    "methaDataNameFile = \"InformationSurLesDiscroutEnregister.json\"\n",
    "linkDiscourtSave = \"lienDesDiscourtTeleCharger.json\"\n",
    "pathFileText = \"TextDiscourt\""
   ]
  },
  {
   "cell_type": "code",
   "execution_count": 5,
   "metadata": {},
   "outputs": [],
   "source": [
    "thisDiscourtIscrap = dict()\n",
    "methaDataToSave = dict()"
   ]
  },
  {
   "cell_type": "markdown",
   "metadata": {
    "id": "Mm7xWa0OQF3Y"
   },
   "source": [
    "# USEFUL FUNCTIONS"
   ]
  },
  {
   "cell_type": "code",
   "execution_count": 6,
   "metadata": {},
   "outputs": [],
   "source": [
    "def insertText(idDoc,textContained):\n",
    "    \"\"\"\n",
    "        use this function to create to new file for save new document haf idDoc\n",
    "        @param idDoc: text file name\n",
    "        @param textContained: text to save\n",
    "    \"\"\"\n",
    "    namefile = pathFileText+\"/\"+idDoc+\".text\"\n",
    "    try:\n",
    "        f = open(pathFileText+\"/\"+idDoc+\".text\", \"w\",encoding='utf-8')\n",
    "    except:\n",
    "        print(\"Error Operation :\")\n",
    "        return -1\n",
    "    \n",
    "    try:\n",
    "        f.write(textContained)\n",
    "    except:\n",
    "        print(\"Error Operation :\")\n",
    "        return -1\n",
    "    \n",
    "    f.close() \n",
    "    \n",
    "    return namefile"
   ]
  },
  {
   "cell_type": "code",
   "execution_count": 25,
   "metadata": {},
   "outputs": [],
   "source": [
    "def getLinkPageDiscours(linkInitialDiscourt, numberClick = 50):\n",
    "    \"\"\"\n",
    "        use this function to get all speech links\n",
    "        @param linkInitialDiscourt: is the start link\n",
    "    \"\"\"\n",
    "    \n",
    "    linkPageDiscourt = list()\n",
    "    \n",
    "    driver = webdriver.Firefox(executable_path=GeckoDriverManager().install())\n",
    "    driver.get(linkInitialDiscourt)\n",
    "    \n",
    "    for j in range(numberClick):\n",
    "        button = driver.find_element_by_id(\"loadMoreNews\").click()\n",
    "    \n",
    "    time.sleep(60)\n",
    "    \n",
    "    lnks = driver.find_elements_by_tag_name(\"a\")\n",
    "    \n",
    "    \n",
    "    for lnk in lnks:\n",
    "        tampon = lnk.get_attribute(\"href\")\n",
    "        linkPageDiscourt.append(tampon)\n",
    "\n",
    "    driver.quit()\n",
    "    \n",
    "    return linkPageDiscourt"
   ]
  },
  {
   "cell_type": "code",
   "execution_count": 8,
   "metadata": {},
   "outputs": [],
   "source": [
    "def saveJsonFile(dictionnaryToSave, nameJsonFile):\n",
    "    \"\"\"\n",
    "        use this function to save a dictionary as a json file\n",
    "        @param dictionnaryToSave: Is the dictionary containing the data\n",
    "        @param nameJsonFile: is the name of file\n",
    "    \"\"\"\n",
    "    \n",
    "    try:\n",
    "        f = open(nameJsonFile, \"w\")\n",
    "        json.dump(dictionnaryToSave, f,  indent=1)\n",
    "    except:\n",
    "        print(\"Error Operation : save file error\")\n",
    "        return -1\n",
    "    \n",
    "    f.close() \n",
    "    \n",
    "    return \"FINISH\""
   ]
  },
  {
   "cell_type": "code",
   "execution_count": 27,
   "metadata": {},
   "outputs": [],
   "source": [
    "def createNecessaryFile():\n",
    "    \"\"\"\n",
    "        create necessary File\n",
    "    \"\"\"\n",
    "    fileList = [methaDataNameFile, linkDiscourtSave]\n",
    "    tamponList = [pathFileText]\n",
    "    \n",
    "    for i in tamponList:\n",
    "        try:\n",
    "            os.mkdir(i)\n",
    "        except OSError:\n",
    "            print (\"Creation of the directory %s failed\" % i)\n",
    "        else:\n",
    "            print (\"Successfully created the directory %s \" % i)\n",
    "            \n",
    "    for j in fileList:\n",
    "        if(os.path.isfile(j)==False):\n",
    "            with open(j, 'w') as f:\n",
    "                f.write(\"\")\n",
    "            print (\"Successfully created the directory %s \" % j)\n",
    "        else:\n",
    "            print (\"Creation of the directory %s failed\" % j)\n",
    "        \n",
    "        \n",
    "    return \"FINISH\""
   ]
  },
  {
   "cell_type": "code",
   "execution_count": 10,
   "metadata": {},
   "outputs": [],
   "source": [
    "def openFileAsJson(nameFile):\n",
    "    \"\"\"\n",
    "        use this function to open file as dictionnairy\n",
    "    \"\"\"\n",
    "    dataToSave = dict()\n",
    "    \n",
    "    try:\n",
    "        f = open(nameFile)\n",
    "        try:\n",
    "            if(os.path.isfile(nameFile)==True):\n",
    "                dataToSave = json.load(f)\n",
    "        except:\n",
    "            pass\n",
    "    except:\n",
    "        print(\"Error Operation : error open file or incorrect json format\")\n",
    "    \n",
    "    f.close()\n",
    "    \n",
    "    return dataToSave"
   ]
  },
  {
   "cell_type": "code",
   "execution_count": 11,
   "metadata": {},
   "outputs": [],
   "source": [
    "def getDomainName(pageUrl):\n",
    "    \"\"\"\n",
    "        give the domain name of a URL\n",
    "        @param pageUrl: is the url that we want to obtain the domain name\n",
    "    \"\"\"\n",
    "    try:\n",
    "        beginIndex = pageUrl.find(\"//\", 0, len(pageUrl))+2\n",
    "        endIndex = pageUrl.find(\"/\",beginIndex)\n",
    "    except:\n",
    "        return \"\"\n",
    "    \n",
    "    return pageUrl[beginIndex:endIndex]"
   ]
  },
  {
   "cell_type": "code",
   "execution_count": 12,
   "metadata": {},
   "outputs": [],
   "source": [
    "def getHtmlPage(pageUrl):\n",
    "    \"\"\"\n",
    "        give the beautifulsup object containing the html web page from the url\n",
    "        @param utl: is the url of web page\n",
    "    \"\"\"\n",
    "    try:\n",
    "        requ = requests.get(pageUrl, allow_redirects=True)\n",
    "    except requests.exceptions.RequestException as e:\n",
    "        return BeautifulSoup(\"\")\n",
    "\n",
    "    return BeautifulSoup(requ.content)"
   ]
  },
  {
   "cell_type": "code",
   "execution_count": 13,
   "metadata": {},
   "outputs": [],
   "source": [
    "def getLanguagePage(text):\n",
    "    \"\"\"\n",
    "        This function detects the language of the text we have given it. It supports 55 languages\n",
    "        @param text: is the text whose language we want to detect\n",
    "    \"\"\"\n",
    "    language = \"\"\n",
    "    try:\n",
    "        language = detect(text)\n",
    "    except:\n",
    "        return \"\"\n",
    "    \n",
    "    return language"
   ]
  },
  {
   "cell_type": "code",
   "execution_count": 14,
   "metadata": {},
   "outputs": [],
   "source": [
    "def getLink(soup, domainname):\n",
    "    \"\"\"\n",
    "        give all link in beautiful soup html object\n",
    "        return the list of link\n",
    "        @param soup: is a soup variable containing html page\n",
    "        @param domainname: is the domaine of web page\n",
    "    \"\"\"\n",
    "    urlInThePage = list()\n",
    "    \n",
    "    if(len(soup) == 0):\n",
    "        return urlInThePage\n",
    "    \n",
    "    for link in soup.findAll('a'):\n",
    "        linkValues = link.get('href')\n",
    "        if(type(linkValues)!=str or len(linkValues)==0):\n",
    "            continue\n",
    "        \n",
    "        if(linkValues[0]==\"/\"):\n",
    "            urlInThePage.append(\"http://\"+domainname+linkValues)\n",
    "        else:\n",
    "            if(\"#\" in linkValues):\n",
    "                beginIndex = linkValues.find(\"#\", 0, len(linkValues))\n",
    "                linkValues = linkValues[0:beginIndex]\n",
    "                if(len(linkValues)!=0):\n",
    "                    urlInThePage.append(linkValues)\n",
    "            else:\n",
    "                urlInThePage.append(linkValues)\n",
    "\n",
    "    return urlInThePage"
   ]
  },
  {
   "cell_type": "code",
   "execution_count": 15,
   "metadata": {},
   "outputs": [],
   "source": [
    "def getIp(pageUrl):\n",
    "    \"\"\"\n",
    "        return the ip address of the url pageUrl\n",
    "        @param pageUrl: the url we want to get the IP address\n",
    "    \"\"\"\n",
    "    ip=\"\"\n",
    "    pageUrl = getDomainName(pageUrl)\n",
    "    try:\n",
    "        ip = socket.gethostbyname(pageUrl)\n",
    "    except socket.gaierror:\n",
    "        ip = \"\"\n",
    "\n",
    "    return ip"
   ]
  },
  {
   "cell_type": "code",
   "execution_count": 16,
   "metadata": {},
   "outputs": [],
   "source": [
    "def getTextOfPage(soup):\n",
    "    \"\"\"\n",
    "        This page extracts useful texts from your beautifulsoup object\n",
    "        @param soup:\n",
    "    \"\"\"\n",
    "\n",
    "    textSoup = str(soup)\n",
    "\n",
    "    textSoup = str(soup)\n",
    "    for link in soup.findAll('script'):\n",
    "        textSoup = textSoup.replace(str(link),\" \")\n",
    "\n",
    "    for link in soup.findAll('style'):\n",
    "        textSoup = textSoup.replace(str(link),\" \")    \n",
    "\n",
    "    beginIndex = 10\n",
    "    endIndex = 100\n",
    "\n",
    "    while(beginIndex>=0 and endIndex>=0):\n",
    "        beginIndex = textSoup.find(\"<\", 0, len(textSoup))\n",
    "        endIndex = textSoup.find(\">\",beginIndex)+1\n",
    "\n",
    "        textSoup = textSoup.replace(textSoup[beginIndex:endIndex],\"\")\n",
    "    \n",
    "    return textSoup"
   ]
  },
  {
   "cell_type": "code",
   "execution_count": 17,
   "metadata": {},
   "outputs": [],
   "source": [
    "def getTextOfPageDiscours(DiscourtSoup):\n",
    "    \"\"\"\n",
    "        This page extracts useful texts from your beautifulsoup object\n",
    "        @param soup:\n",
    "    \"\"\"\n",
    "\n",
    "    textSoup = \"\"\n",
    "    \n",
    "    textIsDiscourt = DiscourtSoup.findAll('span',{ \"class\" : \"text-ff5000\" })\n",
    "    \n",
    "    if(len(textIsDiscourt)!=0):\n",
    "        if('Discours' in textIsDiscourt[0].text):\n",
    "            textSoup = DiscourtSoup.findAll('div',{ \"class\" : \"container-narrow mx-auto mt-50\" })[0]\n",
    "        \n",
    "            textSoup = str(textSoup)\n",
    "            for link in DiscourtSoup.findAll('script'):\n",
    "                textSoup = textSoup.replace(str(link),\" \")\n",
    "\n",
    "            for link in DiscourtSoup.findAll('style'):\n",
    "                textSoup = textSoup.replace(str(link),\" \")    \n",
    "\n",
    "            beginIndex = 10\n",
    "            endIndex = 100\n",
    "\n",
    "            while(beginIndex>=0 and endIndex>=0):\n",
    "                beginIndex = textSoup.find(\"<\", 0, len(textSoup))\n",
    "                endIndex = textSoup.find(\">\",beginIndex)+1\n",
    "\n",
    "                textSoup = textSoup.replace(textSoup[beginIndex:endIndex],\"\")\n",
    "    \n",
    "    return textSoup"
   ]
  },
  {
   "cell_type": "code",
   "execution_count": 18,
   "metadata": {
    "id": "xCcEYZi7P-vh"
   },
   "outputs": [],
   "source": [
    "def getTitle(soup):\n",
    "    \"\"\"\n",
    "        we use this function to get the title\n",
    "        @param soup: is a soup variable containing an html page\n",
    "    \"\"\"\n",
    "    title=\"\"\n",
    "    try:\n",
    "        title=soup.title.string\n",
    "    except :\n",
    "        title=\"\"\n",
    "    \n",
    "    return title"
   ]
  },
  {
   "cell_type": "markdown",
   "metadata": {},
   "source": [
    "# SCRAPING WEB SITE :"
   ]
  },
  {
   "cell_type": "code",
   "execution_count": 19,
   "metadata": {},
   "outputs": [],
   "source": [
    "def preprocessingScrapingWebSite(urlPage):\n",
    "    \"\"\"\n",
    "        scraping and preprocessing the web page with urlPage url\n",
    "        @param urlPage: URL of the page considered\n",
    "    \"\"\"\n",
    "    soup = getHtmlPage(urlPage)\n",
    "    domainName = getDomainName(urlPage)\n",
    "    ipAdress = getIp(urlPage)\n",
    "    \n",
    "    linkPage = getLink(soup, domainName)\n",
    "    textPage = getTextOfPageDiscours(soup)\n",
    "    title = getTitle(soup)\n",
    "    language = getLanguagePage(textPage)\n",
    "    \n",
    "    return domainName, ipAdress, linkPage, title, language, textPage"
   ]
  },
  {
   "cell_type": "markdown",
   "metadata": {},
   "source": [
    "# Scraping Ciblé"
   ]
  },
  {
   "cell_type": "code",
   "execution_count": 20,
   "metadata": {},
   "outputs": [],
   "source": [
    "def scrapingCible(listOfUrl):\n",
    "    \"\"\"\n",
    "        This function scrapes all the web pages of listOfUrl\n",
    "        @param listOfUrl: URL list containing the URLs of the web page we want to extract\n",
    "    \"\"\"\n",
    "    \n",
    "    resultScraping = dict()\n",
    "    k = 0\n",
    "    for urlPage in listOfUrl:\n",
    "        domainName, ipAdress, linkPage, title, language, textPage = preprocessingScrapingWebSite(urlPage)\n",
    "        resultScraping[k] = {\"domainName\":domainName, \"ipAdress\":ipAdress, \"urlPage\":urlPage, \"title\":title, \"language\":language, \"textPage\":textPage}\n",
    "        k+=1\n",
    "        \n",
    "        \n",
    "    return resultScraping"
   ]
  },
  {
   "cell_type": "markdown",
   "metadata": {},
   "source": [
    "# GET SPEECH FROM MACKY SALL"
   ]
  },
  {
   "cell_type": "code",
   "execution_count": 21,
   "metadata": {},
   "outputs": [
    {
     "name": "stderr",
     "output_type": "stream",
     "text": [
      "\n",
      "\n",
      "====== WebDriver manager ======\n",
      "Current firefox version is 88.0\n",
      "Get LATEST driver version for 88.0\n",
      "Driver [/home/panongbene/.wdm/drivers/geckodriver/linux64/v0.29.1/geckodriver] found in cache\n"
     ]
    }
   ],
   "source": [
    "linkPage = getLinkPageDiscours(PAGE_INITIALE)"
   ]
  },
  {
   "cell_type": "code",
   "execution_count": 22,
   "metadata": {},
   "outputs": [],
   "source": [
    "testest = scrapingCible(linkPage)"
   ]
  },
  {
   "cell_type": "code",
   "execution_count": 28,
   "metadata": {},
   "outputs": [
    {
     "name": "stdout",
     "output_type": "stream",
     "text": [
      "Successfully created the directory TextDiscourt \n",
      "Successfully created the directory InformationSurLesDiscroutEnregister.json \n",
      "Successfully created the directory lienDesDiscourtTeleCharger.json \n"
     ]
    },
    {
     "data": {
      "text/plain": [
       "'FINISH'"
      ]
     },
     "execution_count": 28,
     "metadata": {},
     "output_type": "execute_result"
    }
   ],
   "source": [
    "createNecessaryFile()"
   ]
  },
  {
   "cell_type": "code",
   "execution_count": 29,
   "metadata": {},
   "outputs": [],
   "source": [
    "k = 0\n",
    "for i in testest:\n",
    "    if(len(testest[i][\"textPage\"])>10):\n",
    "        methaDataToSave[k+1] = {\"domainName\":testest[i][\"domainName\"], \"ipAdress\":testest[i][\"ipAdress\"], \"urlPage\":testest[i][\"urlPage\"], \"title\":testest[i][\"title\"], \"language\":testest[i][\"language\"], \"textFile\":insertText(str(k+1),testest[i][\"textPage\"])}\n",
    "        thisDiscourtIscrap[k] = testest[i][\"urlPage\"]\n",
    "        k=k+1"
   ]
  },
  {
   "cell_type": "code",
   "execution_count": 30,
   "metadata": {},
   "outputs": [
    {
     "data": {
      "text/plain": [
       "'FINISH'"
      ]
     },
     "execution_count": 30,
     "metadata": {},
     "output_type": "execute_result"
    }
   ],
   "source": [
    "saveJsonFile(thisDiscourtIscrap, linkDiscourtSave)\n",
    "saveJsonFile(methaDataToSave, methaDataNameFile)"
   ]
  },
  {
   "cell_type": "markdown",
   "metadata": {},
   "source": [
    "# UPDATE DOWNLOADS"
   ]
  },
  {
   "cell_type": "code",
   "execution_count": 54,
   "metadata": {},
   "outputs": [
    {
     "name": "stdout",
     "output_type": "stream",
     "text": [
      "Error Operation : error open file or incorrect json format\n"
     ]
    },
    {
     "ename": "UnboundLocalError",
     "evalue": "local variable 'f' referenced before assignment",
     "output_type": "error",
     "traceback": [
      "\u001b[0;31m---------------------------------------------------------------------------\u001b[0m",
      "\u001b[0;31mUnboundLocalError\u001b[0m                         Traceback (most recent call last)",
      "\u001b[0;32m<ipython-input-54-4a23fb3cd931>\u001b[0m in \u001b[0;36m<module>\u001b[0;34m\u001b[0m\n\u001b[0;32m----> 1\u001b[0;31m \u001b[0mmethaDataNameFile\u001b[0m \u001b[0;34m=\u001b[0m \u001b[0mopenFileAsJson\u001b[0m\u001b[0;34m(\u001b[0m\u001b[0mmethaDataNameFile\u001b[0m\u001b[0;34m)\u001b[0m\u001b[0;34m\u001b[0m\u001b[0;34m\u001b[0m\u001b[0m\n\u001b[0m\u001b[1;32m      2\u001b[0m \u001b[0mthisDiscourtIscrap\u001b[0m \u001b[0;34m=\u001b[0m \u001b[0mopenFileAsJson\u001b[0m\u001b[0;34m(\u001b[0m\u001b[0mlinkDiscourtSave\u001b[0m\u001b[0;34m)\u001b[0m\u001b[0;34m\u001b[0m\u001b[0;34m\u001b[0m\u001b[0m\n",
      "\u001b[0;32m<ipython-input-10-2da391ed114e>\u001b[0m in \u001b[0;36mopenFileAsJson\u001b[0;34m(nameFile)\u001b[0m\n\u001b[1;32m     15\u001b[0m         \u001b[0mprint\u001b[0m\u001b[0;34m(\u001b[0m\u001b[0;34m\"Error Operation : error open file or incorrect json format\"\u001b[0m\u001b[0;34m)\u001b[0m\u001b[0;34m\u001b[0m\u001b[0;34m\u001b[0m\u001b[0m\n\u001b[1;32m     16\u001b[0m \u001b[0;34m\u001b[0m\u001b[0m\n\u001b[0;32m---> 17\u001b[0;31m     \u001b[0mf\u001b[0m\u001b[0;34m.\u001b[0m\u001b[0mclose\u001b[0m\u001b[0;34m(\u001b[0m\u001b[0;34m)\u001b[0m\u001b[0;34m\u001b[0m\u001b[0;34m\u001b[0m\u001b[0m\n\u001b[0m\u001b[1;32m     18\u001b[0m \u001b[0;34m\u001b[0m\u001b[0m\n\u001b[1;32m     19\u001b[0m     \u001b[0;32mreturn\u001b[0m \u001b[0mdataToSave\u001b[0m\u001b[0;34m\u001b[0m\u001b[0;34m\u001b[0m\u001b[0m\n",
      "\u001b[0;31mUnboundLocalError\u001b[0m: local variable 'f' referenced before assignment"
     ]
    }
   ],
   "source": [
    "methaDataNameFile = openFileAsJson(methaDataNameFile)\n",
    "thisDiscourtIscrap = openFileAsJson(linkDiscourtSave)"
   ]
  },
  {
   "cell_type": "code",
   "execution_count": 43,
   "metadata": {},
   "outputs": [
    {
     "name": "stderr",
     "output_type": "stream",
     "text": [
      "\n",
      "\n",
      "====== WebDriver manager ======\n",
      "Current firefox version is 88.0\n",
      "Get LATEST driver version for 88.0\n",
      "Driver [/home/panongbene/.wdm/drivers/geckodriver/linux64/v0.29.1/geckodriver] found in cache\n"
     ]
    }
   ],
   "source": [
    "linkPage = getLinkPageDiscours(PAGE_INITIALE, 10)"
   ]
  },
  {
   "cell_type": "code",
   "execution_count": 46,
   "metadata": {},
   "outputs": [],
   "source": [
    "for i in thisDiscourtIscrap:\n",
    "    if(i in linkPage):\n",
    "        linkPage.remove(i)"
   ]
  },
  {
   "cell_type": "code",
   "execution_count": null,
   "metadata": {},
   "outputs": [],
   "source": [
    "testest = scrapingCible(linkPage)"
   ]
  },
  {
   "cell_type": "code",
   "execution_count": 47,
   "metadata": {},
   "outputs": [
    {
     "data": {
      "text/plain": [
       "['http://www.presidence.sn/actualites/covid-19-respectons-les-gestes-barrieres-!_1997',\n",
       " 'https://www.presidence.sn/',\n",
       " 'https://www.presidence.sn/actualites',\n",
       " 'https://www.presidence.sn/actualites',\n",
       " 'https://www.presidence.sn/presidence/president',\n",
       " 'https://www.presidence.sn/institutions',\n",
       " 'https://www.presidence.sn/pse',\n",
       " 'https://www.presidence.sn/monde',\n",
       " 'https://www.presidence.sn/projets',\n",
       " 'https://www.presidence.sn/presidence/biographie',\n",
       " 'https://www.presidence.sn/pse/un-senegal-emergent',\n",
       " 'https://www.presidence.sn/mediatheque',\n",
       " 'https://www.presidence.sn/presse',\n",
       " 'https://www.facebook.com/PresidenceSenegal/',\n",
       " 'https://twitter.com/pr_senegal',\n",
       " 'https://www.linkedin.com/in/prmackysall/',\n",
       " 'https://www.instagram.com/pr_senegal/',\n",
       " 'https://vimeo.com/presidencesn',\n",
       " 'https://www.flickr.com/photos/presidencesenegal/',\n",
       " 'https://www.presidence.sn/',\n",
       " 'https://www.presidence.sn/en/',\n",
       " 'https://www.presidence.sn/',\n",
       " 'https://www.presidence.sn/actualites',\n",
       " 'https://www.presidence.sn/presidence/president',\n",
       " 'https://www.presidence.sn/institutions',\n",
       " 'https://www.presidence.sn/pse',\n",
       " 'https://www.presidence.sn/monde',\n",
       " 'https://www.facebook.com/PresidenceSenegal/',\n",
       " 'https://twitter.com/pr_senegal',\n",
       " 'https://www.instagram.com/pr_senegal/',\n",
       " 'https://www.presidence.sn/#',\n",
       " 'https://www.presidence.sn/',\n",
       " 'https://www.presidence.sn/en/',\n",
       " 'https://www.presidence.sn/actualites',\n",
       " 'https://www.presidence.sn/actualites/conseil-des-ministres',\n",
       " 'https://www.presidence.sn/actualites/communiques',\n",
       " 'https://www.presidence.sn/actualites/international',\n",
       " 'https://www.presidence.sn/actualites/discours',\n",
       " 'https://www.presidence.sn/actualites/focus',\n",
       " 'https://www.presidence.sn/actualites/interviews',\n",
       " 'https://www.presidence.sn/actualites/discours-de-son-excellence-monsieur-le-president-macky-sall-A-loccasion-de-la-celebration-du-61e-anniversaire-de-lindependance-du-senegal_2219',\n",
       " 'https://www.presidence.sn/actualites/message--la-nation-de-son-excellence-monsieur-le-prsident-de-la-rpublique_2203',\n",
       " 'https://www.presidence.sn/actualites/message--la-nation-de-son-excellence-monsieur-le-prsident-de-la-rpublique--loccasion-du-nouvel-an_2146',\n",
       " 'https://www.presidence.sn/actualites/discours-douverture-du-forum-digital-latribunefr-du-30-juin-2020-par-sem-le-prsident-macky-sall_2033',\n",
       " 'https://www.presidence.sn/actualites/message--la-nation-du-prsident-de-la-rpublique-leve-de-ltat-durgence-instaur-dans-le-cadre-de-la-lettre-contre-la-maladie--coronavirus-covid-19_2032',\n",
       " 'https://www.presidence.sn/actualites/message--la-nation-du-prsident-macky-sall-dans-le-cadre-de-la-lutte-contre-la-maladie--coronavirus-covid-19_2016',\n",
       " 'https://www.presidence.sn/actualites/dclaration-dtat-durgence-dans-le-cadre-de-la-lutte-contre-la-maladie--coronavirus-covid-19_1996',\n",
       " 'https://www.presidence.sn/actualites/discours-du-prsident-macky-sall--louverture-du-2-sommet-des-transformers_1904',\n",
       " 'https://www.presidence.sn/actualites/crmonie-douverture-de-la-confrence-dveloppement-durable-et-dette-soutenable_1900',\n",
       " 'https://www.presidence.sn/actualites/discours-du-prsident-macky-sall-forum-medays_1889',\n",
       " 'https://www.presidence.sn/actualites/discours-du-prsident-de-la-rpublique--la-crmonie-de-remise-des-prix-du-concours-gnral-2019_1715',\n",
       " 'https://www.presidence.sn/actualites/discours-du-prsident-de-la-rpublique-oraison-funbre-prsident-ousmane-tanor-dieng_1701',\n",
       " 'https://www.presidence.sn/actualites/discours-du-prsident-macky-sall--loccasion-de-la-remise-des-cinq-premiers-volumes-de-lhistoire-gnrale-du-sngal_1696',\n",
       " 'https://www.presidence.sn/actualites/message--la-nation-du-4-avril-2019_1600',\n",
       " 'https://www.presidence.sn/actualites/discours-dinvestiture-de-son-excellence-monsieur-le-president-macky-sall_1598',\n",
       " 'https://www.presidence.sn/actualites/discours-du-prsident-du-conseil-constitutionnel-du-sngal-pape-oumar-sakho--loccasion-de-la-prestation-de-serment-du-prsident-de-la-rpublique-du-sngal-m-macky-sall_1597',\n",
       " 'https://www.presidence.sn/actualites/message-de-son-excellence-monsieur-le-prsident-de-la-rpublique--lissue-de-la-publication-par-le-conseil-constitutionnel-des-rsultats-dfinitifs-du-scrutin-prsidentiel-du-24-fvrier-2019_1581',\n",
       " 'https://www.presidence.sn/actualites/message--la-nation-de-son-excellence-monsieur-le-prsident-de-la-rpublique--loccasion-du-nouvel-an_1536',\n",
       " 'https://www.presidence.sn/actualites/inauguration-du-muse-des-civilisations-noires-discours-du-prsident-macky-sall_1503',\n",
       " 'https://www.presidence.sn/actualites/discours-du-prsident-de-la-rpublique--loccasion-du-forum-paix-et-scurit-dakar-2018_1458',\n",
       " 'https://www.presidence.sn/actualites/deuxieme-edition-du-forum-ministeriel-africain-sur-lhabitat-et-le-developpement-urbain-fomahdu-2_1425',\n",
       " 'https://www.presidence.sn/actualites/message-de-son-excellence-monsieur-macky-sall-prsident-de-la-rpublique-du-sngal-devant-le-comit-international-olympique_1399',\n",
       " 'https://www.presidence.sn/actualites/crmonie-dhommage-national--la-mmoire-du-ministre-bruno-diatta-chef-du-service-du-protocole-prsidentiel_1387',\n",
       " 'https://www.presidence.sn/actualites/discours-du-prsident-de-la-rpublique-lors-du-forum-chine-afrique--beijing_1369',\n",
       " 'https://www.presidence.sn/actualites/discours-du-prsident-de-la-rpublique-lors-de-la-remise-du-rapport-du-cnra_1353',\n",
       " 'https://www.presidence.sn/actualites/discours-du-prsident-de-la-rpublique--loccasion-de-la-crmonie-de-remise-des-premiers-financements-de-la-der_1344',\n",
       " 'https://www.presidence.sn/actualites/discours-du-prsident-de-la-rpublique-lors-de-la-prsentation-des-titres-de-transport-numriss-et-scuriss_1340',\n",
       " 'https://www.presidence.sn/actualites/discours-du-prsident-de-la-rpublique-lors-du-concours-gnral_1339',\n",
       " 'https://www.presidence.sn/actualites/intervention-du-prsident-de-la-rpublique-lors-du-dixime-sommet-des-brics_1332',\n",
       " 'https://www.presidence.sn/actualites/discours-du-prsident-de-la-rpublique--loccasion-de-la-crmonie-officielle-de-restitution-des-rsultats-du-changement-danne-de-base-des-comptes-nationaux-du-sngal_1360',\n",
       " 'https://www.presidence.sn/actualites/discours-du-prsident-de-la-rpublique-lors-de-de-la-confrence-nationale-sur-lamnagement-et-lattractivit-des-territoires_1316',\n",
       " 'https://www.presidence.sn/actualites/discours-du-prsident-de-la-rpublique-au-symposium-dassilah_1308',\n",
       " 'https://www.presidence.sn/actualites/discours-du-prsident-de-la-rpublique-lors-du-sommet-g7--charlevoix-conservation-des-ocans-et-gestion-durable-des-pches_1291',\n",
       " 'https://www.presidence.sn/actualites/discours-du-prsident-de-la-rpublique--la-11me-session-du-comit-permanent-de-linformation-et-des-affaires-culturelles_1257',\n",
       " 'https://www.presidence.sn/actualites/message--la-nation-du-prsident-de-la-rpublique--loccasion-du-58e-anniversaire-de-lindpendance_1195',\n",
       " 'https://www.presidence.sn/actualites/discours-du-prsident-de-la-rpublique--loccasion-de-la-crmonie-officielle-de-baptme-du-nouveau-patrouilleur-de-haute-mer-le-fouladou_1192',\n",
       " 'https://www.presidence.sn/actualites/discours-du-prsident-de-la-rpublique-lors-du-next-einstein-forum_1193',\n",
       " 'https://www.presidence.sn/actualites/discours-du-prsident-de-la-rpublique--loccasion-du-forum-du-numrique_1160',\n",
       " 'https://www.presidence.sn/actualites/discours-du-prsident-de-la-rpublique--loccasion-de-la-premire-session-du-conseil-prsidentiel-sngalo-gambien-banjul-gambie_1157',\n",
       " 'https://www.presidence.sn/actualites/discours-du-prsident-de-la-rpublique-lors-de-la-36me-session-du-comit-dorientation-des-chefs-detat-et-de-gouvernement-du-nepad_1062',\n",
       " 'https://www.presidence.sn/actualites/discours-du-president-de-la-republique-lors-de-laudience-solennelle-de-la-rentree-des-cours-et-tribunaux_1044',\n",
       " 'https://www.presidence.sn/actualites/message--la-nation-du-prsident-de-la-rpublique--loccasion-du-31-dcembre_1026',\n",
       " 'https://www.presidence.sn/actualites/discours-du-prsident-de-la-rpublique-lors-de-la-crmonie-du-grand-prix-du-chef-de-letat-pour-lenseignant_1024',\n",
       " 'https://www.presidence.sn/actualites/discours-du-prsident-de-la-rpublique--loccasion-de-la-remise-des-grands-prix-du-prsident-de-la-rpublique-pour-les-arts-et-les-lettres_1029',\n",
       " 'https://www.presidence.sn/actualites/discours-du-prsident-de-la-rpublique--loccasion-du-lancement-des-travaux-de-la-nouvelle-usine-de-traitement-deau-de-keur-momar-sarr-3_1030',\n",
       " 'https://www.presidence.sn/actualites/discours-du-prsident-de-la-rpublique--loccasion-du-forum-de-haut-niveau-sur-la-cmu-au-japon_1028',\n",
       " 'https://www.presidence.sn/actualites/discours-du-prsident-de-la-rpublique--loccasion-de-la-crmonie-dinauguration-de-laroport-international-blaise-diagne_1033',\n",
       " 'https://www.presidence.sn/actualites/discours-du-prsident-de-la-rpublique-lors-de-la-deuxime-session-ordinaire-de-lanne-2017-du-parlement-de-la-cedeao_1034',\n",
       " 'https://www.presidence.sn/actualites/discours-du-prsident-de-la-rpublique-lors-de-la-23me-confrence-des-etats-parties--la-convention-cadre-des-nations-unies-sur-les-changements-climatiques_956',\n",
       " 'https://www.presidence.sn/actualites/discours-du-prsident-de-la-rpublique-au-forum-de-dakar-sur-la-paix-et-la-scurit-en-afrique_954',\n",
       " 'https://www.presidence.sn/actualites/message-du-prsident-de-la-rpublique--lquipe-nationale-de-football_1035',\n",
       " 'https://www.presidence.sn/actualites/discours-du-prsident-lors-de-la-troisime-dition-du-forum-sur-linvestissement-en-afrique_904',\n",
       " 'https://www.presidence.sn/actualites/discours-du-prsident-de-la-rpublique--loccasion-de-la-72e-assemble-gnrale-des-nations-unies_892',\n",
       " 'https://www.presidence.sn/actualites/discours-du-prsident-de-la-rpublique--loccasion-du-forum-sur-lducation-en-marge-de-la-72e-assemble-gnrale-des-nations-unies_891',\n",
       " 'https://www.presidence.sn/actualites/discours-du-prsident-de-la-rpublique--loccasion-de-la-crmonie-douverture-de-la-2me-dition-de-lassemble-gnrale-des-actionnaires-dafrica-50_875',\n",
       " 'https://www.presidence.sn/actualites/discours-du-prsident-de-la-rpublique-lors-de-la-crmonie-de-remise-des-prix-aux-laurats-du-concours-gnral_835',\n",
       " 'https://www.presidence.sn/actualites/intervention-du-prsident-de-la-rpublique-lors--la-session-sur-le-dveloppement-le-partenariat-avec-lafrique-et-la-migration_814',\n",
       " 'https://www.presidence.sn/actualites/intervention-prsident-de-la-rpublique-lors-du-sommet-du-g20-en-allemagne-sur-le-thme-climat-et-energie_812',\n",
       " 'https://www.presidence.sn/actualites/discours-du-prsident-de-la-rpublique-lors-de-la-crmonie-douverture-des-journes-europennes-de-dveloppement-en-belgique_769',\n",
       " 'https://www.presidence.sn/actualites/discours-du-prsident-de-la-rpublique-lors-de-la-crmonie-de-lancement-du-projet-de-reconstruction-rhabilitation-et-de-reconstruction-du-quartier-baraka_719',\n",
       " 'https://www.presidence.sn/actualites/discours-du-president-de-la-republique-a-loccasion-de-la-fete-de-lindependance-du-senegal_692',\n",
       " 'https://www.presidence.sn/actualites/discours-du-prsident-de-la-rpublique--loccasion-de-linauguration-du-quai-de-pche-de-potou-dans-la-rgion-de-louga_689',\n",
       " 'https://www.presidence.sn/actualites/discours-du-prsident-de-la-rpublique-lors-de-la-crmonie-officielle-de-la-triennale-2017-de-ladea_660',\n",
       " 'https://www.presidence.sn/actualites/discours-du-prsident-de-la-rpublique--loccasion-de-la-fte-dindpendance-de-gambie_621',\n",
       " 'https://www.presidence.sn/actualites/discours-du-prsident-de-la-rpublique-lors-de-la-cinquime-dition-de-la-grande-rentre-citoyenne_598',\n",
       " 'https://www.presidence.sn/actualites/discours-du-prsident-de-la-rpublique-lors-de-linauguration-du-stade-alassane-djigo-de-pikine_548',\n",
       " 'https://www.presidence.sn/actualites/discours-du-prsident-de-la-rpublique-lors-de-la-remise-du-drapeau-aux-lions-pour-la-coupe-dafrique-des-nations_535',\n",
       " 'https://www.presidence.sn/actualites/discours-du-prsident-de-la-rpublique--loccasion-du-nouvel-an_523',\n",
       " 'https://www.presidence.sn/actualites/discours-prononce--loccasion-de-la-crmonie-de-remise-de-diplme-de-docteur-horis-causa--lacadmie-des-sciences-doutre-mer_515',\n",
       " 'https://www.presidence.sn/actualites/discours-du-prsident-de-la-rpublique--loccasion-du-djeuner-offert-en-son-honneur-par-monsieur-le-premier-ministre-bernard-cazeneuve_514',\n",
       " 'https://www.presidence.sn/actualites/discours-prononce--loccasion-de-la-crmonie-de-remise-du-diplme-de-docteur-horis-causa-du-conservatoire-national-des-arts-et-mtiers_513',\n",
       " 'https://www.presidence.sn/actualites/discours-du-prsident-de-la-rpublique--loccasion-du-diner-offert-en-son-honneur-lors-de-la-visite-detat-en-france_509',\n",
       " 'https://www.presidence.sn/actualites/discours-du-prsident-de-la-rpublique--lhotel-de-ville-de-paris-lors-de-la-visite-detat-en-france_508',\n",
       " 'https://www.presidence.sn/actualites/discours-du-prsident-de-la-rpublique--loccasion-du-lancement-des-travaux-du-train-express-rgional-ter_497',\n",
       " 'https://www.presidence.sn/actualites/discours-du-prsident-de-la-rpublique-au-forum-international-de-dakar-sur-la-paix-et-la-scurit-en-afrique_461',\n",
       " 'https://www.presidence.sn/actualites/discours-du-prsident-de-la-rpublique--loccasion-de-la-5me-dition-de-luniversit-rpublicaine-de-la-cojer_465',\n",
       " 'https://www.presidence.sn/actualites/discours-du-prsident-de-la-rpublique--loccasion-de-linstallation-du-cos-petrogaz_464',\n",
       " 'https://www.presidence.sn/actualites/discours-du-prsident-de-la-rpublique-au-xvie-de-la-francophonie_449',\n",
       " 'https://www.presidence.sn/actualites/discours-du-prsident-de-la-rpublique--la-runion-de-haut-niveau-sur-le-thme-enjeux-dun-dveloppement-durable-du-continent_440',\n",
       " 'https://www.presidence.sn/actualites/discours-du-prsident-de-la-rpublique--la-confrence-des-nations-unies-sur-les-changements-climatiques_439',\n",
       " 'https://www.presidence.sn/actualites/discours-du-president-de-la-republique-au-fonds-monetaire-international-fmi_435',\n",
       " 'https://www.presidence.sn/actualites/discours-du-prsident-de-la-rpublique--loccasion-de-la-rencontre-djeuner-avec-les-membres-de-la-chambre-de-commerce-des-etats-unis_434',\n",
       " 'https://www.presidence.sn/actualites/discours-du-prsident-de-la-rpublique--loccasion-de-linauguration-de-la-centrale-solaire-de-malicounda_420',\n",
       " 'https://www.presidence.sn/actualites/discours-du-prsident-de-la-rpublique--loccasion-de-linstauration-du-haut-conseil-des-collectivites-territoriales_416',\n",
       " 'https://www.presidence.sn/actualites/discours-du-prsident-de-la-rpublique-au-forum-conomique-de-varsovie--loccasion-de-la-visite-officielle-en-pologne_415',\n",
       " 'https://www.presidence.sn/actualites/discours-du-prsident-de-la-rpublique--loccasion-de-linauguration-de-lautoroute-diamniadio-aroport-international-blaise-diagne-sindia_411',\n",
       " 'https://www.presidence.sn/actualites/discours-de-son-excellence-monsieur-le-president-macky-sall--linauguration-de-la-centrale-solaire-photovoltaque-de-bokhol_408',\n",
       " 'https://www.presidence.sn/actualites/discours-de-son-excellence-monsieur-le-prsident-macky-sall-au-sommet-extraordinaire-de-lunion-africaine-sur-la-securit-maritime-et-le-dveloppement-en-afrique_396',\n",
       " 'https://www.presidence.sn/actualites/dclaration-de-son-excellence-monsieur-le-prsident-macky-sall-au-dbat-public-de-haut-niveau-du-conseil-de-scurite-sur-la-syrie_373',\n",
       " 'https://www.presidence.sn/actualites/discours-de-son-excellence-monsieur-le-prsident-macky-sall-au-dbat-gnral-de-la-71me-session-de-lassemble-gnrale-des-nations-unies_372',\n",
       " 'https://www.presidence.sn/actualites/discours-de-son-excellence-monsieur-le-president-macky-sall-au-debat-de-haut-niveau-sur-la-gestion-des-deplacements-massifs-de-refugies-et-de-migrants_367',\n",
       " 'https://www.presidence.sn/actualites/discours-de-son-excellence-monsieur-le-president-macky-sall--la-cinquieme-conference-de-reconstitution-des-ressources-du-fonds-mondial-de-lutte-contre-le-vih-sida-la-tuberculose-et-la-malaria_362',\n",
       " 'https://www.presidence.sn/actualites/allocution-de-son-excellence-monsieur-le-prsident-macky-sall--loccasion-du-sommet-du-g20-2016-en-chine_339',\n",
       " 'https://www.presidence.sn/actualites/discours-de-son-excellence-monsieur-le-president-macky-sall--la-crmonie-officielle-de-remise-de-prix-aux-laurats-du-concours-gnral_291',\n",
       " 'https://www.presidence.sn/actualites/allocution-de-son-excellence-monsieur-le-prsident-macky-sall--loccasion-de-la-crmonie-de-remise-du-drapeau-national-aux-athltes-reprsentant-le-sngal-au-jo-de-rio-2016_278',\n",
       " 'https://www.presidence.sn/actualites/discours-de-son-excellence-monsieur-le-president-macky-sall--la-ceremonie-officielle-de-lancement-des-travaux-de-construction-dinfrastructures-du-projet-dappui--lenseignement-moyen-dans-la-region-de-dakar_273',\n",
       " 'https://www.presidence.sn/actualites/discours-de-son-excellence-monsieur-le-prsident-macky-sall---loccasion-du-lancement-du-programme-de-modernisation-des-villes-du-sngal-promovil_269',\n",
       " 'https://www.presidence.sn/actualites/allocution-de-son-excellence-monsieur-le-prsident-macky-sall--la-crmonie-dinauguration-de-lunit-de-transformation-des-produits-de-la-pche-atlantic-sea-food_267',\n",
       " 'https://www.presidence.sn/actualites/allocution-du-prsident-macky-sall--la-27e-session-ordinaire-du-sommet-de-lunion-africaine_262',\n",
       " 'https://www.presidence.sn/actualites/discours-de-son-excellence-monsieur-le-prsident-macky-sall--loccasion-de-linauguration-du-centre-numrique-de-services-atos-pour-lafrique-de-louest_226',\n",
       " 'https://www.presidence.sn/actualites/discours-de-son-excellence-monsieur-le-president-macky-sall-a-loccasion-de-linaugurationdelacentrale-contourglobaldune-puissance-de-53-mwau-cap-des-biches_214',\n",
       " 'https://www.presidence.sn/actualites/discours-de-son-excellence-monsieur-le-prsident-macky-sall--la-49me-session-ordinaire-de-la-confrence-des-chefs-detat-et-de-gouvernement-de-la-cedeao_207',\n",
       " 'https://www.presidence.sn/actualites/allocution-introductive-de-son-excellence-monsieur-le-prsident-macky-sall--loccasion-de-lentretien-avec-le-medef_204',\n",
       " 'https://www.presidence.sn/actualites/allocution-introductive-de-son-excellence-monsieur-le-prsident-macky-sall--loccasion-de-la-reunion-de-haut-niveau-du-comite-directeur-du-centre-de-developpement-de-locde_202',\n",
       " 'https://www.presidence.sn/actualites/allocution-introductive-de-son-excellence-monsieur-le-prsident-macky-sall--loccasion-de-louverture-du-dialogue-national_205',\n",
       " 'https://www.presidence.sn/actualites/discours-du-prsident-macky-sall-en-visite-officielle-au-kazakhstan_192',\n",
       " 'https://www.presidence.sn/actualites/propos-de-son-excellence-monsieur-le-prsident-macky-sall-au-forum-conomique-mondial-pour-afrique_184',\n",
       " 'https://www.presidence.sn/actualites/discours-de-son-excellence-monsieur-le-prsident-macky-sall--loccasion-du-lancement-des-travaux-des-projets-de-2me-gnration-du-ple-urbain-de-diamniadio_178',\n",
       " 'https://www.presidence.sn/actualites/discours-de-son-excellence-monsieur-le-prsident-macky-sall--loccasion-de-la-12e-dition-de-la-biennale-de-lart-contemporain-africain-dakart_170',\n",
       " 'https://www.presidence.sn/actualites/discours-de-son-excellence-monsieur-le-prsident-macky-sall-loccasion-de-la-fte-internationale-du-travail_169',\n",
       " 'https://www.presidence.sn/actualites/discours-de-son-excellence-monsieur-le-prsident-macky-sall--louverture-de-la-41e-session-du-conseil-des-ministres-acp-ue_167',\n",
       " 'https://www.presidence.sn/actualites/discours-de-son-excellence-monsieur-le-prsident-macky-sall--la-runion-du-conseil-de-scurit-des-nations-unies-en-formule-arria-sur-le-thme-eau-paix-et-scurit_166',\n",
       " 'https://www.presidence.sn/actualites/discours-de-son-excellence-monsieur-le-prsident-macky-sall-13me-sommet-de-lorganisation-de-la-coopration-islamique-oci_156',\n",
       " 'https://www.presidence.sn/actualites/message--la-nation-de-son-excellence-monsieur-le-prsident-macky-sall--loccasion-de-la-clbration-du-56e-anniversaire-de-lindependance-du-sngal_147',\n",
       " 'https://www.presidence.sn/actualites/inaugurations-centrale-lectrique-taiba-ndiaye-et-route-des-grandes-niayes_137',\n",
       " 'https://www.presidence.sn/actualites/allocution-du-prsident-de-la-rpublique-au-next-eintein-forum_129',\n",
       " 'https://www.presidence.sn/actualites/allocution-du-prsident-de-la-rpublique--loccasion-du-conseil-national-de-lapr_115',\n",
       " 'https://www.presidence.sn/actualites/allocution-du-prsident-de-la-rpublique-au-prsidium-du-oui_116',\n",
       " 'https://www.presidence.sn/actualites/message--la-nation-de-son-excellence-monsieur-le-prsident-macky-sall-sur-le-projet-de-rvision-constitutionnelle_85',\n",
       " 'https://www.presidence.sn/actualites/allocution-du-prsident-de-la-rpublique-la-premire-confrence-internationale-de-la-fisheries-transparency-initiative-fiti_73',\n",
       " 'https://www.presidence.sn/actualites/allocution-du-president-de-la-republique-au-sommet-de-lomvg_72',\n",
       " 'https://www.presidence.sn/actualites/34me-sommet-du-comit-dorientation-des-chefs-detat-et-de-gouvernement-du-nepad-hsgoc_69',\n",
       " 'https://www.presidence.sn/actualites/discours-de-rentre-des-cours-et-des-tribunaux_15',\n",
       " 'https://www.presidence.sn/actualites/allocution-du-prsident-de-la-rpublique--la-plateforme-des-femmes-autour-du-pse--and-djggo-_70',\n",
       " 'https://www.presidence.sn/actualites/discours-pour-le-cinquantenaire-du-vatican-ii_14',\n",
       " 'https://www.presidence.sn/actualites/allocution-du-prsident-de-la-rpublique--la-communaute-lboue_68',\n",
       " 'https://www.presidence.sn/actualites/19me-session-ordinaire-de-la-confrence-des-chefs-detat-et-de-gouvernement-de-lunion-economique-et-montaire-ouest-africaine_71',\n",
       " 'https://www.presidence.sn/actualites/voeux-du-prsident_13',\n",
       " 'https://www.presidence.sn/actualites/universit-rpublicaine-2015_40',\n",
       " 'https://www.presidence.sn/actualites/crmonie-dinauguration-des-infrastructures-du-projet-damlioration-de-la-qualit-et-de-lequit-de-leducation-de-base-paqeeb_35',\n",
       " 'https://www.presidence.sn/actualites/sommet-du-forum-sur-la-cooperation-sino-africaine_39',\n",
       " 'https://www.presidence.sn/actualites/confrence-des-nations-unies-sur-les-changements-climatiques_38',\n",
       " 'https://www.presidence.sn/actualites/journe-nationale-de-lelevage-2015_37',\n",
       " 'https://www.presidence.sn/actualites/travaux-de-la-revue--mi-parcours-de-lida-17_36',\n",
       " 'https://www.presidence.sn/actualites/sommet-sur-la-migration--malte_34',\n",
       " 'https://www.facebook.com/PresidenceSenegal/',\n",
       " 'https://twitter.com/pr_senegal',\n",
       " 'https://www.instagram.com/pr_senegal/',\n",
       " 'https://vimeo.com/presidencesn',\n",
       " 'https://www.flickr.com/photos/presidencesenegal/',\n",
       " 'https://www.presidence.sn/',\n",
       " 'https://www.presidence.sn/actualites',\n",
       " 'https://www.presidence.sn/presidence/president',\n",
       " 'https://www.presidence.sn/institutions',\n",
       " 'https://www.presidence.sn/pse',\n",
       " 'https://www.presidence.sn/monde',\n",
       " 'https://www.presidence.sn/mediatheque',\n",
       " 'https://www.presidence.sn/presse',\n",
       " 'https://www.presidence.sn/faq',\n",
       " 'https://www.facebook.com/PresidenceSenegal/',\n",
       " 'https://twitter.com/pr_senegal',\n",
       " 'https://www.instagram.com/pr_senegal/',\n",
       " 'https://vimeo.com/presidencesn',\n",
       " 'https://www.flickr.com/photos/presidencesenegal/',\n",
       " 'https://www.presidence.sn/',\n",
       " 'https://www.presidence.sn/en/',\n",
       " 'https://www.presidence.sn/presidence/cabinet',\n",
       " 'https://www.presidence.sn/presidence/secretariat',\n",
       " 'https://www.presidence.sn/presidence/services',\n",
       " 'https://www.presidence.sn/presidence/abdoulaye-wade',\n",
       " 'https://www.presidence.sn/presidence/abdou-diouf',\n",
       " 'https://www.presidence.sn/presidence/leopold-sedar-senghor',\n",
       " 'https://www.presidence.sn/presidence/biographie',\n",
       " 'https://www.presidence.sn/presidence/questions',\n",
       " 'https://www.presidence.sn/presidence/hymnes',\n",
       " 'https://www.presidence.sn/presidence/independance',\n",
       " 'https://www.presidence.sn/presidence/ordres-nationaux',\n",
       " 'https://www.presidence.sn/presidence/le-sceau',\n",
       " 'https://www.presidence.sn/presidence/la-garde-rouge',\n",
       " 'https://www.presidence.sn/presidence/drapeau-devise',\n",
       " 'https://www.presidence.sn/presidence/le-palais',\n",
       " 'https://www.presidence.sn/presidence/premiere-dame',\n",
       " 'https://www.presidence.sn/presidence/fondation-presidente',\n",
       " 'https://www.presidence.sn/institutions/le-president',\n",
       " 'https://www.presidence.sn/institutions/gouvernement',\n",
       " 'https://www.presidence.sn/institutions/assemblee',\n",
       " 'https://www.presidence.sn/institutions/conseil-constitutionnel',\n",
       " 'https://www.presidence.sn/institutions/conseil-economique-social-environnemental',\n",
       " 'https://www.presidence.sn/institutions/haut-conseil-dialogue-social',\n",
       " 'https://www.presidence.sn/institutions/haut-conseil-collectivites-territoriales',\n",
       " 'http://investinsenegal.com/',\n",
       " 'https://www.presidence.sn/#',\n",
       " 'http://investinsenegal.com/',\n",
       " 'http://investinsenegal.com/']"
      ]
     },
     "execution_count": 47,
     "metadata": {},
     "output_type": "execute_result"
    }
   ],
   "source": [
    "k = len(methaDataToSave)\n",
    "for i in testest:\n",
    "    if(len(testest[i][\"textPage\"])>10):\n",
    "        methaDataToSave[k+1] = {\"domainName\":testest[i][\"domainName\"], \"ipAdress\":testest[i][\"ipAdress\"], \"urlPage\":testest[i][\"urlPage\"], \"title\":testest[i][\"title\"], \"language\":testest[i][\"language\"], \"textFile\":insertText(str(k+1),testest[i][\"textPage\"])}\n",
    "        thisDiscourtIscrap[k] = testest[i][\"urlPage\"]\n",
    "        k=k+1"
   ]
  },
  {
   "cell_type": "code",
   "execution_count": null,
   "metadata": {},
   "outputs": [],
   "source": [
    "saveJsonFile(thisDiscourtIscrap, linkDiscourtSave)\n",
    "saveJsonFile(methaDataToSave, methaDataNameFile)"
   ]
  },
  {
   "cell_type": "code",
   "execution_count": null,
   "metadata": {},
   "outputs": [],
   "source": []
  },
  {
   "cell_type": "code",
   "execution_count": null,
   "metadata": {},
   "outputs": [],
   "source": []
  },
  {
   "cell_type": "code",
   "execution_count": null,
   "metadata": {},
   "outputs": [],
   "source": []
  },
  {
   "cell_type": "code",
   "execution_count": 51,
   "metadata": {},
   "outputs": [
    {
     "data": {
      "text/plain": [
       "136"
      ]
     },
     "execution_count": 51,
     "metadata": {},
     "output_type": "execute_result"
    }
   ],
   "source": [
    "len(methaDataToSave)"
   ]
  },
  {
   "cell_type": "code",
   "execution_count": null,
   "metadata": {},
   "outputs": [],
   "source": []
  },
  {
   "cell_type": "code",
   "execution_count": null,
   "metadata": {},
   "outputs": [],
   "source": []
  }
 ],
 "metadata": {
  "colab": {
   "collapsed_sections": [],
   "name": "scrapingCode.ipynb",
   "provenance": []
  },
  "kernelspec": {
   "display_name": "Python 3",
   "language": "python",
   "name": "python3"
  },
  "language_info": {
   "codemirror_mode": {
    "name": "ipython",
    "version": 3
   },
   "file_extension": ".py",
   "mimetype": "text/x-python",
   "name": "python",
   "nbconvert_exporter": "python",
   "pygments_lexer": "ipython3",
   "version": "3.7.6"
  }
 },
 "nbformat": 4,
 "nbformat_minor": 1
}
